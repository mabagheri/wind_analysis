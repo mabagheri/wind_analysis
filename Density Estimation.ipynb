{
 "cells": [
  {
   "cell_type": "code",
   "execution_count": 1,
   "metadata": {},
   "outputs": [],
   "source": [
    "from scipy import stats\n",
    "import matplotlib.pyplot as plt\n",
    "import numpy as np"
   ]
  },
  {
   "cell_type": "code",
   "execution_count": 2,
   "metadata": {},
   "outputs": [
    {
     "data": {
      "text/plain": [
       "[<matplotlib.lines.Line2D at 0x1a7f697d208>]"
      ]
     },
     "execution_count": 2,
     "metadata": {},
     "output_type": "execute_result"
    },
    {
     "data": {
      "image/png": "[encoded data removed]",
      "text/plain": [
       "<Figure size 432x288 with 1 Axes>"
      ]
     },
     "metadata": {},
     "output_type": "display_data"
    }
   ],
   "source": [
    "x1 = np.array([-7, -5, 1, 4, 5], dtype=np.float)\n",
    "kde1 = stats.gaussian_kde(x1)\n",
    "kde2 = stats.gaussian_kde(x1, bw_method='silverman')\n",
    "\n",
    "fig = plt.figure()\n",
    "ax = fig.add_subplot(111)\n",
    "\n",
    "ax.plot(x1, np.zeros(x1.shape), 'b+', ms=20)  # rug plot\n",
    "x_eval = np.linspace(-10, 10, num=200)\n",
    "ax.plot(x_eval, kde1(x_eval), 'k-', label=\"Scott's Rule\")\n",
    "ax.plot(x_eval, kde2(x_eval), 'r-', label=\"Silverman's Rule\")"
   ]
  },
  {
   "cell_type": "code",
   "execution_count": 3,
   "metadata": {},
   "outputs": [
    {
     "data": {
      "text/plain": [
       "[<matplotlib.lines.Line2D at 0x1a7f6a1add8>]"
      ]
     },
     "execution_count": 3,
     "metadata": {},
     "output_type": "execute_result"
    },
    {
     "data": {
      "image/png": "[encoded data removed]",
      "text/plain": [
       "<Figure size 432x288 with 1 Axes>"
      ]
     },
     "metadata": {},
     "output_type": "display_data"
    }
   ],
   "source": [
    "x1 = np.random.normal(5,1,1000)\n",
    "kde1 = stats.gaussian_kde(x1)\n",
    "kde2 = stats.gaussian_kde(x1, bw_method='silverman')\n",
    "\n",
    "fig = plt.figure()\n",
    "ax = fig.add_subplot(111)\n",
    "\n",
    "ax.plot(x1, np.zeros(x1.shape), 'b+', ms=20)  # rug plot\n",
    "x_eval = np.linspace(0, 10, num=200)\n",
    "ax.plot(x_eval, kde1(x_eval), 'k-', label=\"Scott's Rule\")\n",
    "ax.plot(x_eval, kde2(x_eval), 'r-', label=\"Silverman's Rule\")"
   ]
  },
  {
   "cell_type": "code",
   "execution_count": 4,
   "metadata": {},
   "outputs": [],
   "source": [
    "values_x = np.arange(1,7)\n",
    "prob_x = np.ones(6)*(1/6)\n",
    "values_y = np.arange(1,7)\n",
    "prob_y = np.ones(6)*(1/6)"
   ]
  },
  {
   "cell_type": "code",
   "execution_count": null,
   "metadata": {},
   "outputs": [],
   "source": [
    "# from itertools import product\n",
    "# a = list(product(values_x,values_y))\n",
    "# s = [(x[0]+x[1]) for x in a]\n",
    "# print(s)\n",
    "prob_mult = [(x * y) for x in prob_x for y in prob_y]\n",
    "s = [(x + y) for x in values_x for y in values_y]\n",
    "[unique, ind, unique_inverse ] = np.unique(sums, return_index = True, return_inverse = True)\n",
    "print()\n",
    "print('unique =', unique, '\\n')\n",
    "# print('ind = ', ind, '\\n')\n",
    "print('unique_inverse =', unique_inverse , '\\n')"
   ]
  },
  {
   "cell_type": "code",
   "execution_count": null,
   "metadata": {},
   "outputs": [],
   "source": [
    "ind_list = []\n",
    "ind_dict = {}\n",
    "final_prob = {}\n",
    "for i in unique:\n",
    "    ind = list(np.where(s == i)[0])\n",
    "    #print(ind, type(ind))\n",
    "    ind_list.append(ind)\n",
    "    ind_dict[i] = ind\n",
    "    final_prob[i] = sum([prob_mult[i] for i in ind])\n",
    "    "
   ]
  },
  {
   "cell_type": "code",
   "execution_count": 7,
   "metadata": {},
   "outputs": [],
   "source": [
    "def density_estimation_discrete(values_x, prob_x, values_y, prob_y):\n",
    "    # from itertools import product\n",
    "    # a = list(product(values_x,values_y))\n",
    "    # s = [(x[0]+x[1]) for x in a]\n",
    "    prob_mult = [(x * y) for x in prob_x for y in prob_y]\n",
    "    s = [(x + y) for x in values_x for y in values_y]\n",
    "    unique = np.unique(s) #[unique, ind, unique_inverse ] = np.unique(sums, return_index = True, return_inverse = True)\n",
    "\n",
    "    ind_list = []\n",
    "    ind_dict = {}\n",
    "    final_prob = {}\n",
    "    for i in unique:\n",
    "        ind = list(np.where(s == i)[0])\n",
    "        ind_list.append(ind)\n",
    "        ind_dict[i] = ind\n",
    "        final_prob[i] = sum([prob_mult[i] for i in ind])\n",
    "\n",
    "    return(final_prob)"
   ]
  },
  {
   "cell_type": "code",
   "execution_count": 18,
   "metadata": {},
   "outputs": [
    {
     "data": {
      "text/plain": [
       "{2: 0.027777777777777776,\n",
       " 3: 0.05555555555555555,\n",
       " 4: 0.08333333333333333,\n",
       " 5: 0.1111111111111111,\n",
       " 6: 0.1388888888888889,\n",
       " 7: 0.16666666666666669,\n",
       " 8: 0.1388888888888889,\n",
       " 9: 0.1111111111111111,\n",
       " 10: 0.08333333333333333,\n",
       " 11: 0.05555555555555555,\n",
       " 12: 0.027777777777777776}"
      ]
     },
     "execution_count": 18,
     "metadata": {},
     "output_type": "execute_result"
    }
   ],
   "source": [
    "z = density_estimation_discrete(values_x, prob_x, values_y, prob_y)\n",
    "z"
   ]
  },
  {
   "cell_type": "code",
   "execution_count": 27,
   "metadata": {},
   "outputs": [
    {
     "data": {
      "text/plain": [
       "{3: 0.004629629629629629,\n",
       " 4: 0.013888888888888888,\n",
       " 5: 0.027777777777777776,\n",
       " 6: 0.046296296296296294,\n",
       " 7: 0.06944444444444445,\n",
       " 8: 0.09722222222222224,\n",
       " 9: 0.11574074074074074,\n",
       " 10: 0.125,\n",
       " 11: 0.125,\n",
       " 12: 0.11574074074074073,\n",
       " 13: 0.09722222222222222,\n",
       " 14: 0.06944444444444445,\n",
       " 15: 0.046296296296296294,\n",
       " 16: 0.027777777777777776,\n",
       " 17: 0.013888888888888888,\n",
       " 18: 0.004629629629629629}"
      ]
     },
     "execution_count": 27,
     "metadata": {},
     "output_type": "execute_result"
    }
   ],
   "source": [
    "z2 = density_estimation_discrete(values_x, prob_x, z.keys(), z.values())\n",
    "z2"
   ]
  },
  {
   "cell_type": "code",
   "execution_count": 28,
   "metadata": {},
   "outputs": [
    {
     "data": {
      "text/plain": [
       "0.9999999999999999"
      ]
     },
     "execution_count": 28,
     "metadata": {},
     "output_type": "execute_result"
    }
   ],
   "source": [
    "sum(z2.values())"
   ]
  },
  {
   "cell_type": "code",
   "execution_count": null,
   "metadata": {},
   "outputs": [],
   "source": []
  }
 ],
 "metadata": {
  "kernelspec": {
   "display_name": "Python 3",
   "language": "python",
   "name": "python3"
  },
  "language_info": {
   "codemirror_mode": {
    "name": "ipython",
    "version": 3
   },
   "file_extension": ".py",
   "mimetype": "text/x-python",
   "name": "python",
   "nbconvert_exporter": "python",
   "pygments_lexer": "ipython3",
   "version": "3.6.5"
  }
 },
 "nbformat": 4,
 "nbformat_minor": 2
}
