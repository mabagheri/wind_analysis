{
 "cells": [
  {
   "cell_type": "code",
   "execution_count": 1,
   "metadata": {},
   "outputs": [],
   "source": [
    "from utils import *\n",
    "from matplotlib import rcParams\n",
    "rcParams['font.family'] = 'sans-serif'\n",
    "rcParams['font.sans-serif'] = ['Segoe UI Symbol','simHei','Arial','sans-serif']"
   ]
  },
  {
   "cell_type": "markdown",
   "metadata": {},
   "source": [
    "## Load Data"
   ]
  },
  {
   "cell_type": "code",
   "execution_count": 2,
   "metadata": {},
   "outputs": [
    {
     "name": "stdout",
     "output_type": "stream",
     "text": [
      "year:2016\t(105408, 20)\n",
      "year:2017\t(105120, 20)\n",
      "resampled to  (17544, 20)\n"
     ]
    }
   ],
   "source": [
    "years = [2016,2017]\n",
    "resampling_period = '60T'\n",
    "\n",
    "data = load_resample_data(years, resampling_period)\n",
    "windfarms_names = data.columns.tolist()    "
   ]
  },
  {
   "cell_type": "markdown",
   "metadata": {},
   "source": [
    "## Normalize Data"
   ]
  },
  {
   "cell_type": "code",
   "execution_count": 3,
   "metadata": {},
   "outputs": [],
   "source": [
    "# normalized_data = normalize_data_mycode(data)"
   ]
  },
  {
   "cell_type": "markdown",
   "metadata": {},
   "source": [
    "## Convert original numerical data into categorical representation"
   ]
  },
  {
   "cell_type": "code",
   "execution_count": 4,
   "metadata": {},
   "outputs": [],
   "source": [
    "alphabet_size=5\n",
    "alphabets = list(string.ascii_uppercase[:alphabet_size]) # ['A', 'B', 'C', 'D', 'E' , ...]\n",
    "alphabets = [ \"○\" , '◔', '◑', '◕', \"●\"] #  \"○\" , '◔', '◑', '◕', \"●\"  OR '▁ ','▃ ', '▄ ', '▆ ', '█ '"
   ]
  },
  {
   "cell_type": "code",
   "execution_count": 5,
   "metadata": {},
   "outputs": [],
   "source": [
    "# Very slow: Do not run\n",
    "# categorical_reps = categorical_rep_mycode(data.iloc[:,-20:],alphabet_size)\n",
    "# t = time.time()dd\n",
    "# kk = [  ''.join(categorical_reps.loc[j][0][i] for j in range(20)) for i in range(L)]\n",
    "# time.time() - t"
   ]
  },
  {
   "cell_type": "code",
   "execution_count": 6,
   "metadata": {},
   "outputs": [
    {
     "data": {
      "text/html": [
       "<div>\n",
       "<style scoped>\n",
       "    .dataframe tbody tr th:only-of-type {\n",
       "        vertical-align: middle;\n",
       "    }\n",
       "\n",
       "    .dataframe tbody tr th {\n",
       "        vertical-align: top;\n",
       "    }\n",
       "\n",
       "    .dataframe thead th {\n",
       "        text-align: right;\n",
       "    }\n",
       "</style>\n",
       "<table border=\"1\" class=\"dataframe\">\n",
       "  <thead>\n",
       "    <tr style=\"text-align: right;\">\n",
       "      <th></th>\n",
       "      <th>AKE1</th>\n",
       "      <th>ARD1</th>\n",
       "      <th>BSR1</th>\n",
       "      <th>BTR1</th>\n",
       "      <th>BUL1</th>\n",
       "      <th>BUL2</th>\n",
       "      <th>CR1</th>\n",
       "      <th>CRE3</th>\n",
       "      <th>CRR1</th>\n",
       "      <th>GWW1</th>\n",
       "      <th>HAL1</th>\n",
       "      <th>IEW1</th>\n",
       "      <th>IEW2</th>\n",
       "      <th>KHW1</th>\n",
       "      <th>NEP1</th>\n",
       "      <th>OWF1</th>\n",
       "      <th>SCR2</th>\n",
       "      <th>SCR3</th>\n",
       "      <th>SCR4</th>\n",
       "      <th>TAB1</th>\n",
       "    </tr>\n",
       "    <tr>\n",
       "      <th>DT</th>\n",
       "      <th></th>\n",
       "      <th></th>\n",
       "      <th></th>\n",
       "      <th></th>\n",
       "      <th></th>\n",
       "      <th></th>\n",
       "      <th></th>\n",
       "      <th></th>\n",
       "      <th></th>\n",
       "      <th></th>\n",
       "      <th></th>\n",
       "      <th></th>\n",
       "      <th></th>\n",
       "      <th></th>\n",
       "      <th></th>\n",
       "      <th></th>\n",
       "      <th></th>\n",
       "      <th></th>\n",
       "      <th></th>\n",
       "      <th></th>\n",
       "    </tr>\n",
       "  </thead>\n",
       "  <tbody>\n",
       "    <tr>\n",
       "      <th>2016-01-01 00:00:00</th>\n",
       "      <td>●</td>\n",
       "      <td>●</td>\n",
       "      <td>○</td>\n",
       "      <td>◕</td>\n",
       "      <td>◕</td>\n",
       "      <td>●</td>\n",
       "      <td>●</td>\n",
       "      <td>◕</td>\n",
       "      <td>◕</td>\n",
       "      <td>●</td>\n",
       "      <td>●</td>\n",
       "      <td>◑</td>\n",
       "      <td>◔</td>\n",
       "      <td>●</td>\n",
       "      <td>●</td>\n",
       "      <td>●</td>\n",
       "      <td>●</td>\n",
       "      <td>●</td>\n",
       "      <td>●</td>\n",
       "      <td>◑</td>\n",
       "    </tr>\n",
       "    <tr>\n",
       "      <th>2016-01-01 01:00:00</th>\n",
       "      <td>◕</td>\n",
       "      <td>◕</td>\n",
       "      <td>◔</td>\n",
       "      <td>◑</td>\n",
       "      <td>◕</td>\n",
       "      <td>●</td>\n",
       "      <td>●</td>\n",
       "      <td>◕</td>\n",
       "      <td>◕</td>\n",
       "      <td>●</td>\n",
       "      <td>●</td>\n",
       "      <td>◑</td>\n",
       "      <td>◔</td>\n",
       "      <td>●</td>\n",
       "      <td>●</td>\n",
       "      <td>●</td>\n",
       "      <td>●</td>\n",
       "      <td>●</td>\n",
       "      <td>●</td>\n",
       "      <td>◑</td>\n",
       "    </tr>\n",
       "    <tr>\n",
       "      <th>2016-01-01 02:00:00</th>\n",
       "      <td>●</td>\n",
       "      <td>◕</td>\n",
       "      <td>◔</td>\n",
       "      <td>◑</td>\n",
       "      <td>◕</td>\n",
       "      <td>●</td>\n",
       "      <td>●</td>\n",
       "      <td>◕</td>\n",
       "      <td>◑</td>\n",
       "      <td>◕</td>\n",
       "      <td>●</td>\n",
       "      <td>◑</td>\n",
       "      <td>◔</td>\n",
       "      <td>●</td>\n",
       "      <td>●</td>\n",
       "      <td>●</td>\n",
       "      <td>●</td>\n",
       "      <td>●</td>\n",
       "      <td>●</td>\n",
       "      <td>◕</td>\n",
       "    </tr>\n",
       "  </tbody>\n",
       "</table>\n",
       "</div>"
      ],
      "text/plain": [
       "                    AKE1 ARD1 BSR1 BTR1 BUL1 BUL2 CR1 CRE3 CRR1 GWW1 HAL1  \\\n",
       "DT                                                                          \n",
       "2016-01-01 00:00:00    ●    ●    ○    ◕    ◕    ●   ●    ◕    ◕    ●    ●   \n",
       "2016-01-01 01:00:00    ◕    ◕    ◔    ◑    ◕    ●   ●    ◕    ◕    ●    ●   \n",
       "2016-01-01 02:00:00    ●    ◕    ◔    ◑    ◕    ●   ●    ◕    ◑    ◕    ●   \n",
       "\n",
       "                    IEW1 IEW2 KHW1 NEP1 OWF1 SCR2 SCR3 SCR4 TAB1  \n",
       "DT                                                                \n",
       "2016-01-01 00:00:00    ◑    ◔    ●    ●    ●    ●    ●    ●    ◑  \n",
       "2016-01-01 01:00:00    ◑    ◔    ●    ●    ●    ●    ●    ●    ◑  \n",
       "2016-01-01 02:00:00    ◑    ◔    ●    ●    ●    ●    ●    ●    ◕  "
      ]
     },
     "execution_count": 6,
     "metadata": {},
     "output_type": "execute_result"
    }
   ],
   "source": [
    "categorical_reps_df = categorical_rep_mycode_df(data.iloc[:,-20:],data.columns, alphabet_size, alphabets)\n",
    "categorical_reps_df.head(3)"
   ]
  },
  {
   "cell_type": "code",
   "execution_count": 7,
   "metadata": {},
   "outputs": [
    {
     "data": {
      "text/plain": [
       "DT\n",
       "2016-01-01 00:00:00    ●●○◕◕●●◕◕●●◑◔●●●●●●◑\n",
       "2016-01-01 01:00:00    ◕◕◔◑◕●●◕◕●●◑◔●●●●●●◑\n",
       "2016-01-01 02:00:00    ●◕◔◑◕●●◕◑◕●◑◔●●●●●●◕\n",
       "2016-01-01 03:00:00    ●◕◔◕◕◕●◑◑◕●◔○◕●●●●●●\n",
       "2016-01-01 04:00:00    ●◕◑◕◕◕●◑◑◕●◔◔●●●◕●◕◕\n",
       "Freq: 60T, dtype: object"
      ]
     },
     "execution_count": 7,
     "metadata": {},
     "output_type": "execute_result"
    }
   ],
   "source": [
    "categorical_reps_joined = categorical_reps_df.iloc[:,:].apply(lambda x: ''.join(x), axis = 1)\n",
    "categorical_reps_joined.head(5)"
   ]
  },
  {
   "cell_type": "markdown",
   "metadata": {},
   "source": [
    "### Find the most frequent patterns of a set of time series"
   ]
  },
  {
   "cell_type": "code",
   "execution_count": 8,
   "metadata": {},
   "outputs": [
    {
     "data": {
      "text/html": [
       "<div>\n",
       "<style scoped>\n",
       "    .dataframe tbody tr th:only-of-type {\n",
       "        vertical-align: middle;\n",
       "    }\n",
       "\n",
       "    .dataframe tbody tr th {\n",
       "        vertical-align: top;\n",
       "    }\n",
       "\n",
       "    .dataframe thead th {\n",
       "        text-align: right;\n",
       "    }\n",
       "</style>\n",
       "<table border=\"1\" class=\"dataframe\">\n",
       "  <thead>\n",
       "    <tr style=\"text-align: right;\">\n",
       "      <th></th>\n",
       "      <th>Frequency</th>\n",
       "    </tr>\n",
       "    <tr>\n",
       "      <th>Pattern</th>\n",
       "      <th></th>\n",
       "    </tr>\n",
       "  </thead>\n",
       "  <tbody>\n",
       "    <tr>\n",
       "      <th>○○○○○○○○○○○○○○○○○○○○</th>\n",
       "      <td>0.09</td>\n",
       "    </tr>\n",
       "    <tr>\n",
       "      <th>○○○○◔◔○○○○○○○○○○○○○○</th>\n",
       "      <td>0.01</td>\n",
       "    </tr>\n",
       "    <tr>\n",
       "      <th>○○○○○○○○○○○○○○○○○○◔○</th>\n",
       "      <td>0.01</td>\n",
       "    </tr>\n",
       "    <tr>\n",
       "      <th>○○○○◔○○○○○○○○○○○○○○○</th>\n",
       "      <td>0.01</td>\n",
       "    </tr>\n",
       "    <tr>\n",
       "      <th>○○○○○○○○○○◔○○○◔○○○○○</th>\n",
       "      <td>0.01</td>\n",
       "    </tr>\n",
       "    <tr>\n",
       "      <th>○○○○◔◑○○○○○○○○○○○○○○</th>\n",
       "      <td>0.01</td>\n",
       "    </tr>\n",
       "    <tr>\n",
       "      <th>○○◔○○○○○○○○○○○○○○○○○</th>\n",
       "      <td>0.01</td>\n",
       "    </tr>\n",
       "    <tr>\n",
       "      <th>○○○○◑◑○○○○○○○○○○○○○○</th>\n",
       "      <td>0.00</td>\n",
       "    </tr>\n",
       "    <tr>\n",
       "      <th>○○◔○○○○○○○○○○○○○○○◔○</th>\n",
       "      <td>0.00</td>\n",
       "    </tr>\n",
       "    <tr>\n",
       "      <th>○○○○○◔○○○○○○○○○○○○○○</th>\n",
       "      <td>0.00</td>\n",
       "    </tr>\n",
       "  </tbody>\n",
       "</table>\n",
       "</div>"
      ],
      "text/plain": [
       "                      Frequency\n",
       "Pattern                        \n",
       "○○○○○○○○○○○○○○○○○○○○       0.09\n",
       "○○○○◔◔○○○○○○○○○○○○○○       0.01\n",
       "○○○○○○○○○○○○○○○○○○◔○       0.01\n",
       "○○○○◔○○○○○○○○○○○○○○○       0.01\n",
       "○○○○○○○○○○◔○○○◔○○○○○       0.01\n",
       "○○○○◔◑○○○○○○○○○○○○○○       0.01\n",
       "○○◔○○○○○○○○○○○○○○○○○       0.01\n",
       "○○○○◑◑○○○○○○○○○○○○○○       0.00\n",
       "○○◔○○○○○○○○○○○○○○○◔○       0.00\n",
       "○○○○○◔○○○○○○○○○○○○○○       0.00"
      ]
     },
     "execution_count": 8,
     "metadata": {},
     "output_type": "execute_result"
    }
   ],
   "source": [
    "Frequent_patterns = find_most_frequent_patterns_set_timeseries(categorical_reps_joined)\n",
    "Frequent_patterns.head(10)\n",
    "prob_frequent_patterns = Frequent_patterns/(data.shape[0] )\n",
    "prob_frequent_patterns.head(10)"
   ]
  },
  {
   "cell_type": "code",
   "execution_count": 9,
   "metadata": {},
   "outputs": [
    {
     "data": {
      "image/png": "[encoded data removed]",
      "text/plain": [
       "<Figure size 700x400 with 1 Axes>"
      ]
     },
     "metadata": {},
     "output_type": "display_data"
    }
   ],
   "source": [
    "fig, ax = plt.subplots(1, 1,figsize=(7,4), dpi=100)\n",
    "prob_frequent_patterns.iloc[:10,:].plot(kind='barh', ax = ax, legend = False)\n",
    "\n",
    "ax.tick_params(axis='x', labelsize = 11, which='major', pad=0, rotation=0 , color = 'w')\n",
    "ax.tick_params(axis='y', labelsize = 12, which='major', pad=0, rotation=0 , color = 'w')\n",
    "# ax.set_title('Windfarm', fontsize=9)\n",
    "# ax.set_xticklabels(dataframe.index, color = 'w')\n",
    "# ax.set_ylim(bottom=0, top = 1)\n",
    "ax.set_xlabel('Probability of the pattern',fontsize=12, color = 'darkblue')\n",
    "ax.set_ylabel('',fontsize=11)\n",
    "# ax.set_xticklabels(motifs, color = 'k')\n",
    "\n",
    "fig.savefig('Most frequent pattern of joint operation of 20 windfarsms.pdf', \n",
    "            papertype='letter', dpi = 300, bbox_inches='tight')    "
   ]
  },
  {
   "cell_type": "markdown",
   "metadata": {},
   "source": [
    "### Plot heatmap of co-occurrence (coincidence) of power generation of each windfarm vs. other windfarms"
   ]
  },
  {
   "cell_type": "code",
   "execution_count": null,
   "metadata": {},
   "outputs": [],
   "source": [
    "str1 = list(categorical_reps_df.iloc[:,0])\n",
    "str2 = list(categorical_reps_df.iloc[:,1])\n",
    "\n",
    "# Compute confusion matrix\n",
    "cnf_matrix = confusion_matrix(str1, str2)\n",
    "cnf_matrix = cnf_matrix.astype('float') / cnf_matrix.sum(axis=1)[:, np.newaxis] #Normalize it\n",
    "print(cnf_matrix)\n",
    "np.set_printoptions(precision=2)\n",
    "\n",
    "fig, ax = plt.subplots(dpi=110) # figsize=(7,7)\n",
    "plot_confusion_matrix(cnf_matrix, classes=alphabets, normalize=True, x_label='First series', y_label='Second series',\n",
    "                      title='Joint probabilty', cmap = 'GnBu')\n",
    "\n",
    "##########################################################################################################3\n",
    "fig, ax = plt.subplots(dpi=110) # figsize=(7,7)\n",
    "\n",
    "im, cbar = heatmap(cnf_matrix, alphabets, alphabets, cmap=\"YlGn\", cbarlabel=\"Joint Probabilty\")\n",
    "texts = annotate_heatmap(im, valfmt=\"{x:.2f} \")  # >> this gives a warning\n",
    "fig.tight_layout()\n"
   ]
  }
 ],
 "metadata": {
  "kernelspec": {
   "display_name": "Python 3",
   "language": "python",
   "name": "python3"
  },
  "language_info": {
   "codemirror_mode": {
    "name": "ipython",
    "version": 3
   },
   "file_extension": ".py",
   "mimetype": "text/x-python",
   "name": "python",
   "nbconvert_exporter": "python",
   "pygments_lexer": "ipython3",
   "version": "3.6.5"
  }
 },
 "nbformat": 4,
 "nbformat_minor": 2
}
