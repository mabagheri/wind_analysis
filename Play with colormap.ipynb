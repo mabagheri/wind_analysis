{
 "cells": [
  {
   "cell_type": "code",
   "execution_count": 3,
   "metadata": {},
   "outputs": [],
   "source": [
    "from matplotlib import pyplot as plt\n",
    "import matplotlib \n",
    "import numpy as np"
   ]
  },
  {
   "cell_type": "code",
   "execution_count": 4,
   "metadata": {},
   "outputs": [
    {
     "data": {
      "image/png": "[encoded data removed]",
      "text/plain": [
       "<Figure size 432x288 with 1 Axes>"
      ]
     },
     "metadata": {},
     "output_type": "display_data"
    }
   ],
   "source": [
    "plt.figure()\n",
    "a=np.outer(np.arange(0,1,0.01),np.ones(10))\n",
    "\n",
    "cdict2 = {'red':  [(0.0,  1, 1),\n",
    "                   (1.0,  1.0, 1.0)],\n",
    "         'green': [(0.0,  1.0, 1),\n",
    "                   (1.0, 0.0, 0.0)],\n",
    "         'blue':  [(0.0,  1.0, 1.0),\n",
    "                   (1.0,  0.0, 0.0),\n",
    "                   (1.0,  0.0, 0.0)]} \n",
    "my_cmap2 = matplotlib.colors.LinearSegmentedColormap('my_colormap2',cdict2,256)\n",
    "plt.imshow(a,aspect='auto', cmap =my_cmap2)                   \n",
    "plt.show()"
   ]
  },
  {
   "cell_type": "code",
   "execution_count": 25,
   "metadata": {},
   "outputs": [
    {
     "data": {
      "image/png": "[encoded data removed]",
      "text/plain": [
       "<Figure size 432x288 with 1 Axes>"
      ]
     },
     "metadata": {},
     "output_type": "display_data"
    }
   ],
   "source": [
    "plt.figure()\n",
    "a=np.outer(np.arange(0,1,0.01),np.ones(10))\n",
    "\n",
    "cdict2 = {'red':  [(0.0, 0, 0 ),\n",
    "                   (1.0, 1, 1)],\n",
    "         'green': [(0.0, 0, 0),\n",
    "                   (1.0, 1, 1)],\n",
    "         'blue':  [(0.0, 0, 0),\n",
    "                   (1.0, `, 1)]\n",
    "         } \n",
    "\n",
    "cdict = {'red':   [(0.0,  0.0, 0.0),\n",
    "                   (0.5,  1.0, 1.0),\n",
    "                   (1.0,  1.0, 1.0)],\n",
    "\n",
    "         'green': [(0.0,  0.0, 0.0),\n",
    "                   (0.25, 0.0, 0.0),\n",
    "                   (0.75, 1.0, 1.0),\n",
    "                   (1.0,  1.0, 1.0)],\n",
    "\n",
    "         'blue':  [(0.0,  0.0, 0.0),\n",
    "                   (0.5,  0.0, 0.0),\n",
    "                   (1.0,  1.0, 1.0)]}\n",
    "my_cmap2 = matplotlib.colors.LinearSegmentedColormap('my_colormap2',cdict2,256)\n",
    "plt.imshow(a,aspect='auto', cmap =my_cmap2)                   \n",
    "plt.show()"
   ]
  },
  {
   "cell_type": "code",
   "execution_count": null,
   "metadata": {},
   "outputs": [],
   "source": []
  }
 ],
 "metadata": {
  "kernelspec": {
   "display_name": "Python 3",
   "language": "python",
   "name": "python3"
  },
  "language_info": {
   "codemirror_mode": {
    "name": "ipython",
    "version": 3
   },
   "file_extension": ".py",
   "mimetype": "text/x-python",
   "name": "python",
   "nbconvert_exporter": "python",
   "pygments_lexer": "ipython3",
   "version": "3.6.5"
  }
 },
 "nbformat": 4,
 "nbformat_minor": 2
}
