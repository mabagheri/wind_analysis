{
 "cells": [
  {
   "cell_type": "code",
   "execution_count": null,
   "metadata": {},
   "outputs": [],
   "source": [
    "from utils import *\n",
    "from matplotlib import rcParams\n",
    "rcParams['font.family'] = 'sans-serif'\n",
    "rcParams['font.sans-serif'] = ['Segoe UI Symbol','simHei','Arial','sans-serif']"
   ]
  },
  {
   "cell_type": "markdown",
   "metadata": {},
   "source": [
    "## Load Data"
   ]
  },
  {
   "cell_type": "code",
   "execution_count": null,
   "metadata": {},
   "outputs": [],
   "source": [
    "years = [2016,2017]\n",
    "resampling_period = '10T'  # 60 minutes\n",
    "\n",
    "original_data = load_resample_data(years, resampling_period)\n",
    "\n",
    "# Load Windfarms.xlsx\n",
    "windfarms = pd.read_excel('NRGstreamData/WindFarms.xlsx').sort_values(by='Asset ID').reset_index(drop = True)\n",
    "windfarms_names = original_data.columns.tolist()    "
   ]
  },
  {
   "cell_type": "markdown",
   "metadata": {},
   "source": [
    "### Normalize data = Capacity Factor (optional) "
   ]
  },
  {
   "cell_type": "code",
   "execution_count": null,
   "metadata": {},
   "outputs": [],
   "source": [
    "normalized_data = original_data / windfarms['Capacity'].values\n",
    "\n",
    "normalized_data.head(3)"
   ]
  },
  {
   "cell_type": "markdown",
   "metadata": {},
   "source": [
    "### Decide what data to use for further analysis (Original data | Normalized data | clustered_data)"
   ]
  },
  {
   "cell_type": "code",
   "execution_count": null,
   "metadata": {},
   "outputs": [],
   "source": [
    "sum_capacities_each_row = np.array(~original_data.isnull().values * windfarms['Capacity'].values).sum(axis=1)\n",
    "normalized_data['Total'] = original_data.sum(axis=1)/ sum_capacities_each_row\n",
    "\n",
    "clustered_data['Total'] = normalized_data['Total']\n",
    "\n",
    "original_data['Total'] = original_data.sum(axis=1)"
   ]
  },
  {
   "cell_type": "code",
   "execution_count": null,
   "metadata": {},
   "outputs": [],
   "source": [
    "# #### Be catious !\n",
    "data = original_data  # Normalized_data  | Original_data\n",
    "data.head(3)"
   ]
  },
  {
   "cell_type": "code",
   "execution_count": null,
   "metadata": {},
   "outputs": [],
   "source": [
    "CF_total = data['Total'].values #* 100"
   ]
  },
  {
   "cell_type": "code",
   "execution_count": null,
   "metadata": {},
   "outputs": [],
   "source": [
    "class prob_matrix_rapid_change:\n",
    "    \n",
    "    def __init__(self, array, t_windows = [2,3], delta_CFs = [5, 10], kind = 'RampUp'):\n",
    "        self.kind = kind\n",
    "        self.array = array\n",
    "        self.time_windows = t_windows\n",
    "        self.delta_CFs = delta_CFs\n",
    "        \n",
    "    def comp_prob_matrix_rapid_change(self):\n",
    "        prob_mat = np.zeros((len(self.time_windows),len(self.delta_CFs)))\n",
    "    \n",
    "        for i,time_window in enumerate(self.time_windows):\n",
    "            print(i, end=\" \")\n",
    "\n",
    "            # a = np.diff(array, time_window)\n",
    "            a = self.array[time_window:] - self.array[:-time_window]\n",
    "\n",
    "            for j,delta_CF in enumerate(self.delta_CFs):\n",
    "                if self.kind == 'RampUp':\n",
    "                    n_happened = sum(a > delta_CF) \n",
    "                elif self.kind == 'RampDown':\n",
    "                    n_happened = sum(a < -delta_CF) \n",
    "\n",
    "                p = n_happened / len(a)\n",
    "\n",
    "                prob_mat[i,j] = p\n",
    "                \n",
    "        self.prob_mat = prob_mat\n",
    "        \n",
    "        return prob_mat\n",
    "    \n",
    "    def plot_imageshow(self):\n",
    "        data_here = self.prob_mat\n",
    "        d1 = data_here.shape[0]\n",
    "        d2 = data_here.shape[1]\n",
    "        x_leg = 1 * c\n",
    "        y_leg = 5\n",
    "\n",
    "        fig, ax = plt.subplots(figsize=(5,4),dpi=110)\n",
    "        cax = ax.imshow(data_here.transpose(), aspect='auto', cmap='YlGnBu') #norm=matplotlib.colors.LogNorm()\n",
    "\n",
    "        ax.set_xticks(np.arange(0, d1,x_leg))\n",
    "        ax.set_xticklabels(time_windows[0::x_leg].astype('int'), fontsize=9)\n",
    "\n",
    "        y_ticks_positions = np.arange(0, d2, y_leg)\n",
    "        # y_ticks_positions[-1] = y_ticks_positions[-1] + 1\n",
    "        ax.set_yticks(y_ticks_positions) #[-0.5,  4.5,  9.5, 14.5, 19.5, 24.5, 30.5]\n",
    "        ax.set_yticklabels(delta_Capacity[0::y_leg],fontsize=9)  # delta_Capacity or delta_CFs\n",
    "\n",
    "        # ax.spines['left'].set_position(('data', 0.0))\n",
    "\n",
    "        # Add colorbar, make sure to specify tick locations to match desired ticklabels\n",
    "        cbar = fig.colorbar(cax)\n",
    "        # cbar.ax.set_yticklabels(['< -1', '0', '> 1'])  # vertically oriented colorbar\n",
    "\n",
    "        ax.set_xlabel('Time window (hours)',fontsize=10)\n",
    "        ax.set_ylabel('$\\Delta$P (MW)',fontsize=10)\n",
    "\n",
    "        fig.tight_layout()\n",
    "        fig.savefig('{}_in_{}hours_upto{}p.jpg'.format(kind,n_hours,max(delta_Capacity)), dpi = 300, bbox_inches='tight')"
   ]
  },
  {
   "cell_type": "code",
   "execution_count": null,
   "metadata": {},
   "outputs": [],
   "source": [
    "c = int(60 / int(resampling_period[:-1]))\n",
    "n_hours = 2\n",
    "kind = 'RampDown'\n",
    "t_windows = np.arange(c, n_hours *  c + 1)\n",
    "delta_CFs = np.arange(100,301,100)\n",
    "\n",
    "prob_matrix_ramp_down = prob_matrix_rapid_change(CF_total, t_windows, delta_CFs, kind)\n",
    "prob_matrix_ramp_down_matrix = prob_matrix_ramp_down.comp_prob_matrix_rapid_change()\n",
    "prob_matrix_ramp_down.plot_imageshow()"
   ]
  },
  {
   "cell_type": "code",
   "execution_count": null,
   "metadata": {},
   "outputs": [],
   "source": [
    "c = int(60 / int(resampling_period[:-1]))\n",
    "n_hours = 2\n",
    "kind = 'RampUp'\n",
    "t_windows = np.arange(c, n_hours *  c + 1)\n",
    "delta_CFs = np.arange(100,301,100)\n",
    "\n",
    "prob_matrix_ramp_up = prob_matrix_rapid_change(CF_total, t_windows, delta_CFs, kind)\n",
    "prob_matrix_ramp_up_matrix = prob_matrix_ramp_down.comp_prob_matrix_rapid_change()\n",
    "prob_matrix_ramp_up.plot_imageshow()"
   ]
  }
 ],
 "metadata": {
  "kernelspec": {
   "display_name": "Python 3",
   "language": "python",
   "name": "python3"
  },
  "language_info": {
   "codemirror_mode": {
    "name": "ipython",
    "version": 3
   },
   "file_extension": ".py",
   "mimetype": "text/x-python",
   "name": "python",
   "nbconvert_exporter": "python",
   "pygments_lexer": "ipython3",
   "version": "3.6.5"
  }
 },
 "nbformat": 4,
 "nbformat_minor": 2
}
