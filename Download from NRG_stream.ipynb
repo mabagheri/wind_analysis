{
 "cells": [
  {
   "cell_type": "code",
   "execution_count": 1,
   "metadata": {},
   "outputs": [],
   "source": [
    "import win32com.client as win32\n",
    "import pandas as pd\n",
    "import numpy as np"
   ]
  },
  {
   "cell_type": "code",
   "execution_count": 2,
   "metadata": {},
   "outputs": [],
   "source": [
    "def APIGetData(streamid, fromDate, toDate, displayID=0, dataInterval=0, newData=True):\n",
    "\n",
    "    # The following 2 lines are the bare minimum to get data from the NRGSTREAM API\n",
    "\n",
    "    obj = win32.Dispatch('NRGSTREAM.Trader.API.Extractor')# Replace Trader with Xtractor to use Xtractor API\n",
    "    curs = obj.APIGetData(streamid,fromDate, # Call the NRGSTREAM API, returns an array\n",
    "                          toDate,displayID,\n",
    "                          dataInterval,newData)\n",
    "    #print(curs)\n",
    "    # Additional sample code to massage the data into a Pandas series\n",
    "    \n",
    "    x = np.asarray(curs[0][4:]) # Put first row which is dates starting at column 4 to exclude headers into an array\n",
    "    y = np.asarray(curs[1][4:]) # Put second row which is data starting at column 4 to exclude headers into another array\n",
    "    \n",
    "    ser = pd.Series(index=x, data=y)# Create a pandas series with the dates as the index\n",
    "    ser.replace(r'^\\s*$', np.nan, regex=True, inplace=True) #this line is added by me\n",
    "    ser = ser.astype('float64') # set the data type to float64\n",
    "    ser.fillna(method='pad',inplace= True) # This line is added by me\n",
    "\n",
    "    ser.index = pd.to_datetime(ser.index)   # convert the index to date time\n",
    "    \n",
    "    return ser \n",
    "# data = APIGetData('155938:1',-200,-197)      # Stream ID with a trailing :1 means master stream id"
   ]
  },
  {
   "cell_type": "code",
   "execution_count": 3,
   "metadata": {},
   "outputs": [],
   "source": [
    "from datetime import datetime\n",
    "def days_between(d1, d2):\n",
    "    d1 = datetime.strptime(d1, \"%Y-%m-%d\")\n",
    "    d2 = datetime.strptime(d2, \"%Y-%m-%d\")\n",
    "    return abs((d2 - d1).days)"
   ]
  },
  {
   "cell_type": "markdown",
   "metadata": {},
   "source": [
    "#### Select desired windfarms"
   ]
  },
  {
   "cell_type": "code",
   "execution_count": 5,
   "metadata": {},
   "outputs": [
    {
     "name": "stdout",
     "output_type": "stream",
     "text": [
      "['AKE1', 'ARD1', 'BSR1', 'BTR1', 'BUL1', 'BUL2', 'CR1', 'CRE3', 'CRR1', 'GWW1', 'HAL1', 'IEW1', 'IEW2', 'KHW1', 'NEP1', 'OWF1', 'SCR2', 'SCR3', 'SCR4', 'TAB1']\n"
     ]
    }
   ],
   "source": [
    "windfarms = pd.read_excel('NRGstreamData/WindFarms.xlsx').sort_values(by='Asset ID').reset_index(drop = True)\n",
    "desired = list(windfarms['Asset ID'])[:]\n",
    "print(desired)\n",
    "\n",
    "# desired = ['Load'] #  \n",
    "desired = ['Price']"
   ]
  },
  {
   "cell_type": "markdown",
   "metadata": {},
   "source": [
    "### Download  data"
   ]
  },
  {
   "cell_type": "code",
   "execution_count": 15,
   "metadata": {},
   "outputs": [
    {
     "name": "stdout",
     "output_type": "stream",
     "text": [
      "downloaded records =  8760 \n",
      "\n"
     ]
    }
   ],
   "source": [
    "# https://www.nrgstream.com/installation.aspx\n",
    "fromDate = '2013-01-01'\n",
    "toDate = '2013-12-31'\n",
    "dataInterval=60 #minutes to download data (it can not be changed, if changed, does not have any impact !)\n",
    "n_days = days_between(fromDate,toDate)\n",
    "\n",
    "resampling = False\n",
    "resampling_period = '5T'\n",
    "\n",
    "save_folder = fromDate + ' to ' + toDate\n",
    "\n",
    "for item in desired:\n",
    "    if item=='Load':\n",
    "        streamID = '225:1'  \n",
    "    elif item=='Price':\n",
    "        streamID = '2:1'    \n",
    "        \n",
    "    elif item != 'Load':\n",
    "        ind = windfarms.index[windfarms['Asset ID'] == item].tolist()\n",
    "        streamID = (windfarms.loc[ind]['StreamID'])\n",
    "        streamID = str(int(streamID)) + ':1'     \n",
    "        print(item, 'with stream ID = ' + streamID)\n",
    "    \n",
    "        \n",
    "\n",
    "    \n",
    "    try:\n",
    "        data = APIGetData(streamID,fromDate,toDate, dataInterval=5, newData=False)# APIGetData('155938:1',-200,-197) \n",
    "        print('downloaded records = ', data.shape[0], '\\n')\n",
    "\n",
    "        # Truncutae data (resample data)\n",
    "        if resampling: data = data.resample(resampling_period).mean()\n",
    "\n",
    "        # assert(data.shape[0] == int((n_days+1) * 24 * (60/dataInterval)))\n",
    "    except:\n",
    "#         data = pd.DataFrame()\n",
    "        print('Error :) \\n')\n",
    "        \n",
    "    data.to_csv(item + '_' + fromDate + '_' + toDate + '_' + str(dataInterval) + '.csv')"
   ]
  },
  {
   "cell_type": "markdown",
   "metadata": {},
   "source": [
    "### codes shows why I had to add to lines of codes to APIGetData "
   ]
  },
  {
   "cell_type": "code",
   "execution_count": null,
   "metadata": {},
   "outputs": [],
   "source": [
    "s = pd.Series(['0', '2','', 4])\n",
    "s.replace(r'^\\s*$', np.nan, regex=True, inplace=True)\n",
    "s.astype('float64')\n",
    "s.fillna(method='pad',inplace= True)\n",
    "\n",
    "s"
   ]
  },
  {
   "cell_type": "code",
   "execution_count": null,
   "metadata": {},
   "outputs": [],
   "source": [
    "s.astype('float64')\n",
    "s.fillna(method='pad',inplace= True)\n",
    "s"
   ]
  }
 ],
 "metadata": {
  "kernelspec": {
   "display_name": "Python 3",
   "language": "python",
   "name": "python3"
  },
  "language_info": {
   "codemirror_mode": {
    "name": "ipython",
    "version": 3
   },
   "file_extension": ".py",
   "mimetype": "text/x-python",
   "name": "python",
   "nbconvert_exporter": "python",
   "pygments_lexer": "ipython3",
   "version": "3.6.5"
  }
 },
 "nbformat": 4,
 "nbformat_minor": 2
}
