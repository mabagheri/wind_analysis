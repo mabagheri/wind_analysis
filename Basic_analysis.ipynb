{
 "cells": [
  {
   "cell_type": "code",
   "execution_count": 1,
   "metadata": {},
   "outputs": [],
   "source": [
    "import pandas as pd\n",
    "import numpy as np\n",
    "import glob\n",
    "import os\n",
    "from os.path import isfile,join,isdir\n",
    "import matplotlib.pyplot as plt"
   ]
  },
  {
   "cell_type": "code",
   "execution_count": 2,
   "metadata": {},
   "outputs": [],
   "source": [
    "import sys\n",
    "sys.path.insert(0, 'supplementary files')\n",
    "\n",
    "from saxpy import SAX\n",
    "from stage1 import *\n",
    "from stage2 import *"
   ]
  },
  {
   "cell_type": "code",
   "execution_count": 3,
   "metadata": {},
   "outputs": [
    {
     "data": {
      "text/html": [
       "<div>\n",
       "<style scoped>\n",
       "    .dataframe tbody tr th:only-of-type {\n",
       "        vertical-align: middle;\n",
       "    }\n",
       "\n",
       "    .dataframe tbody tr th {\n",
       "        vertical-align: top;\n",
       "    }\n",
       "\n",
       "    .dataframe thead th {\n",
       "        text-align: right;\n",
       "    }\n",
       "</style>\n",
       "<table border=\"1\" class=\"dataframe\">\n",
       "  <thead>\n",
       "    <tr style=\"text-align: right;\">\n",
       "      <th></th>\n",
       "      <th>DT</th>\n",
       "      <th>Year</th>\n",
       "      <th>Month</th>\n",
       "      <th>Day</th>\n",
       "      <th>Hour</th>\n",
       "      <th>AKE1</th>\n",
       "      <th>ARD1</th>\n",
       "      <th>BSR1</th>\n",
       "      <th>BTR1</th>\n",
       "      <th>BUL1</th>\n",
       "      <th>...</th>\n",
       "      <th>HAL1</th>\n",
       "      <th>IEW1</th>\n",
       "      <th>IEW2</th>\n",
       "      <th>KHW1</th>\n",
       "      <th>NEP1</th>\n",
       "      <th>OWF1</th>\n",
       "      <th>SCR2</th>\n",
       "      <th>SCR3</th>\n",
       "      <th>SCR4</th>\n",
       "      <th>TAB1</th>\n",
       "    </tr>\n",
       "  </thead>\n",
       "  <tbody>\n",
       "    <tr>\n",
       "      <th>0</th>\n",
       "      <td>2017-01-01 00:00:00</td>\n",
       "      <td>2017</td>\n",
       "      <td>1</td>\n",
       "      <td>1</td>\n",
       "      <td>00:00</td>\n",
       "      <td>22</td>\n",
       "      <td>19</td>\n",
       "      <td>236</td>\n",
       "      <td>27</td>\n",
       "      <td>4</td>\n",
       "      <td>...</td>\n",
       "      <td>40</td>\n",
       "      <td>27</td>\n",
       "      <td>19</td>\n",
       "      <td>14</td>\n",
       "      <td>33</td>\n",
       "      <td>25</td>\n",
       "      <td>2</td>\n",
       "      <td>15</td>\n",
       "      <td>41</td>\n",
       "      <td>37</td>\n",
       "    </tr>\n",
       "    <tr>\n",
       "      <th>1</th>\n",
       "      <td>2017-01-01 01:00:00</td>\n",
       "      <td>2017</td>\n",
       "      <td>1</td>\n",
       "      <td>1</td>\n",
       "      <td>01:00</td>\n",
       "      <td>34</td>\n",
       "      <td>35</td>\n",
       "      <td>173</td>\n",
       "      <td>34</td>\n",
       "      <td>4</td>\n",
       "      <td>...</td>\n",
       "      <td>30</td>\n",
       "      <td>40</td>\n",
       "      <td>30</td>\n",
       "      <td>39</td>\n",
       "      <td>39</td>\n",
       "      <td>42</td>\n",
       "      <td>15</td>\n",
       "      <td>12</td>\n",
       "      <td>21</td>\n",
       "      <td>34</td>\n",
       "    </tr>\n",
       "    <tr>\n",
       "      <th>2</th>\n",
       "      <td>2017-01-01 02:00:00</td>\n",
       "      <td>2017</td>\n",
       "      <td>1</td>\n",
       "      <td>1</td>\n",
       "      <td>02:00</td>\n",
       "      <td>23</td>\n",
       "      <td>30</td>\n",
       "      <td>232</td>\n",
       "      <td>19</td>\n",
       "      <td>4</td>\n",
       "      <td>...</td>\n",
       "      <td>36</td>\n",
       "      <td>37</td>\n",
       "      <td>32</td>\n",
       "      <td>34</td>\n",
       "      <td>28</td>\n",
       "      <td>40</td>\n",
       "      <td>20</td>\n",
       "      <td>11</td>\n",
       "      <td>31</td>\n",
       "      <td>37</td>\n",
       "    </tr>\n",
       "    <tr>\n",
       "      <th>3</th>\n",
       "      <td>2017-01-01 03:00:00</td>\n",
       "      <td>2017</td>\n",
       "      <td>1</td>\n",
       "      <td>1</td>\n",
       "      <td>03:00</td>\n",
       "      <td>30</td>\n",
       "      <td>33</td>\n",
       "      <td>200</td>\n",
       "      <td>29</td>\n",
       "      <td>4</td>\n",
       "      <td>...</td>\n",
       "      <td>47</td>\n",
       "      <td>57</td>\n",
       "      <td>53</td>\n",
       "      <td>36</td>\n",
       "      <td>22</td>\n",
       "      <td>41</td>\n",
       "      <td>21</td>\n",
       "      <td>11</td>\n",
       "      <td>25</td>\n",
       "      <td>20</td>\n",
       "    </tr>\n",
       "  </tbody>\n",
       "</table>\n",
       "<p>4 rows × 25 columns</p>\n",
       "</div>"
      ],
      "text/plain": [
       "                    DT  Year  Month  Day   Hour  AKE1  ARD1  BSR1  BTR1  BUL1  \\\n",
       "0  2017-01-01 00:00:00  2017      1    1  00:00    22    19   236    27     4   \n",
       "1  2017-01-01 01:00:00  2017      1    1  01:00    34    35   173    34     4   \n",
       "2  2017-01-01 02:00:00  2017      1    1  02:00    23    30   232    19     4   \n",
       "3  2017-01-01 03:00:00  2017      1    1  03:00    30    33   200    29     4   \n",
       "\n",
       "   ...   HAL1  IEW1  IEW2  KHW1  NEP1  OWF1  SCR2  SCR3  SCR4  TAB1  \n",
       "0  ...     40    27    19    14    33    25     2    15    41    37  \n",
       "1  ...     30    40    30    39    39    42    15    12    21    34  \n",
       "2  ...     36    37    32    34    28    40    20    11    31    37  \n",
       "3  ...     47    57    53    36    22    41    21    11    25    20  \n",
       "\n",
       "[4 rows x 25 columns]"
      ]
     },
     "execution_count": 3,
     "metadata": {},
     "output_type": "execute_result"
    }
   ],
   "source": [
    "period_start = '20170101'\n",
    "period_end = '20180101'\n",
    "frequency = '60min'\n",
    "original_data = pd.read_csv('original_data_' + period_start + '_' + period_end + '_' + frequency + '.csv', index_col = False)\n",
    "windfarms = pd.read_excel('NRGstreamData/WindFarms.xlsx').sort_values(by='Asset ID').reset_index(drop = True)\n",
    "\n",
    "labels = original_data.columns[-20:]\n",
    "original_data.head(4)"
   ]
  },
  {
   "cell_type": "code",
   "execution_count": 10,
   "metadata": {},
   "outputs": [
    {
     "data": {
      "text/plain": [
       "[22, 19, 236, 27, 4, 8, 1, 1, 15, 25, 40, 27, 19, 14, 33, 25, 2, 15, 41, 37]"
      ]
     },
     "execution_count": 10,
     "metadata": {},
     "output_type": "execute_result"
    }
   ],
   "source": [
    "(list(original_data.iloc[0,5:]))"
   ]
  },
  {
   "cell_type": "code",
   "execution_count": 11,
   "metadata": {},
   "outputs": [
    {
     "name": "stdout",
     "output_type": "stream",
     "text": [
      "Counter({1: 4, 2: 4, 3: 2, 5: 2, 4: 1})\n"
     ]
    }
   ],
   "source": [
    "import collections\n",
    "a = [1,1,1,1,2,2,2,2,3,3,4,5,5]\n",
    "counter=collections.Counter(a)\n",
    "print(counter)"
   ]
  },
  {
   "cell_type": "code",
   "execution_count": null,
   "metadata": {},
   "outputs": [],
   "source": [
    "from sklearn import preprocessing\n",
    "\n",
    "# Create a minimum and maximum processor object\n",
    "min_max_scaler = preprocessing.MinMaxScaler()\n",
    "\n",
    "# Create an object to transform the data to fit minmax processor\n",
    "x_scaled = min_max_scaler.fit_transform(original_data[labels])\n",
    "# Run the normalizer on the dataframe\n",
    "data_normalized = pd.DataFrame(x_scaled)"
   ]
  },
  {
   "cell_type": "code",
   "execution_count": null,
   "metadata": {},
   "outputs": [],
   "source": [
    "from sklearn.cluster import KMeans\n",
    "kmin = KMeans(n_clusters=3)\n",
    "X = np.transpose(data_normalized.iloc[:,:])\n",
    "Y = kmin.fit(X)"
   ]
  },
  {
   "cell_type": "code",
   "execution_count": null,
   "metadata": {},
   "outputs": [],
   "source": [
    "clusters = kmin.labels_\n",
    "(clusters)"
   ]
  },
  {
   "cell_type": "code",
   "execution_count": null,
   "metadata": {},
   "outputs": [],
   "source": [
    "L = np.array(labels)\n",
    "L"
   ]
  },
  {
   "cell_type": "code",
   "execution_count": null,
   "metadata": {},
   "outputs": [],
   "source": [
    "from mk import mk_eab, mk"
   ]
  },
  {
   "cell_type": "code",
   "execution_count": null,
   "metadata": {},
   "outputs": [],
   "source": [
    "aa = data_normalized.iloc[:,1][:1000:].values\n",
    "aa.size"
   ]
  },
  {
   "cell_type": "code",
   "execution_count": null,
   "metadata": {},
   "outputs": [],
   "source": [
    "obj = mk_eab(l=10, metric='euclidean')\n",
    "motif_a, motif_b = obj.search(aa)\n",
    "print(motif_a['motif'])\n",
    "print(\"begin = \", motif_a['begin'])\n",
    "print(\"end = \", motif_a['end'])"
   ]
  },
  {
   "cell_type": "code",
   "execution_count": null,
   "metadata": {},
   "outputs": [],
   "source": [
    "fig, this_axes = plt.subplots(num=None, figsize=(20,6), dpi=100, facecolor='w', edgecolor='k')\n",
    "plt.plot(aa)\n",
    "# plt.plot(np.arange(1,10), aa[1:10])\n",
    "\n",
    "plt.plot(np.arange(motif_a['begin'],motif_a['end']),motif_a['motif'])\n",
    "# plt.savefig('motif_discovery.pdf')"
   ]
  },
  {
   "cell_type": "code",
   "execution_count": null,
   "metadata": {},
   "outputs": [],
   "source": [
    "from saxpy import SAX"
   ]
  },
  {
   "cell_type": "code",
   "execution_count": null,
   "metadata": {},
   "outputs": [],
   "source": [
    "s = SAX(wordSize=len(aa), alphabetSize=8) #,epsilon\n",
    "(x1String, x1Indices) = s.to_letter_rep(aa)\n",
    "print(x1String)"
   ]
  },
  {
   "cell_type": "code",
   "execution_count": null,
   "metadata": {},
   "outputs": [],
   "source": [
    "# The error shows that this function does not work on symoblic representation of data. It only works on continous floating data\n",
    "obj = mk_eab(l=5, metric='euclidean')\n",
    "motif_a, motif_b = obj.search(x1String[1:50])\n",
    "print(motif_a['motif'])\n",
    "print(\"begin = \", motif_a['begin'])\n",
    "print(\"end = \", motif_a['end'])"
   ]
  },
  {
   "cell_type": "code",
   "execution_count": null,
   "metadata": {},
   "outputs": [],
   "source": [
    "# np.digitize(aa,np.arange(0,1.1,0.2))\n",
    "bins = np.arange(0,1,0.1)\n",
    "# bins = [0, 0.1, 0.3, 0.5, 0.7, 0.9, 1]\n",
    "data_digitize = np.digitize(aa,bins,right=False)\n",
    "data_digitize[:20]\n",
    "# fig, this_axes = plt.subplots(num=None, figsize=(20,6), dpi=100, facecolor='w', edgecolor='k')\n",
    "# plt.step(np.arange(len(data_digitize)),data_digitize)\n"
   ]
  },
  {
   "cell_type": "code",
   "execution_count": null,
   "metadata": {},
   "outputs": [],
   "source": [
    "type(aa)"
   ]
  },
  {
   "cell_type": "code",
   "execution_count": null,
   "metadata": {},
   "outputs": [],
   "source": [
    "pd.qcut(range(5), 3, labels=[\"good\", \"medium\", \"bad\"])"
   ]
  },
  {
   "cell_type": "code",
   "execution_count": null,
   "metadata": {},
   "outputs": [],
   "source": [
    "w = pd.qcut(np.random.randn(8), 4,labels=[\"excelent\", \"good\", \"medium\", \"bad\"])\n",
    "print(w)\n",
    "print(type(w))"
   ]
  },
  {
   "cell_type": "code",
   "execution_count": null,
   "metadata": {},
   "outputs": [],
   "source": [
    "List = [i for i in w]\n",
    "print(List)\n",
    "print(type(List))"
   ]
  },
  {
   "cell_type": "code",
   "execution_count": null,
   "metadata": {},
   "outputs": [],
   "source": [
    "w = pd.qcut(np.random.randn(8), 4,labels=False)\n",
    "print(w)\n",
    "print(type(w))"
   ]
  },
  {
   "cell_type": "code",
   "execution_count": null,
   "metadata": {},
   "outputs": [],
   "source": [
    "from stage1 import *\n",
    "from stage2 import *\n",
    "\n",
    "import time\n",
    "\n",
    "params_nwa = (10,5,8)\n",
    "\n",
    "start_time = time.time()\n",
    "bar = TSP2(aa[:], params=params_nwa, k=5, d=2)\n",
    "print('elapsed time =', time.time()-start_time)\n",
    "\n",
    "start_time = time.time()\n",
    "bar.build_cm(t=10)\n",
    "print('elapsed time =', time.time()-start_time)"
   ]
  },
  {
   "cell_type": "code",
   "execution_count": null,
   "metadata": {},
   "outputs": [],
   "source": [
    "from itertools import permutations, combinations_with_replacement, product\n",
    "perms = [''.join(p) for p in permutations('sta')]\n",
    "print(perms)\n",
    "\n",
    "alphabetSize = 8\n",
    "alphabets = string.ascii_lowercase[:alphabetSize]\n",
    "perms2 = [''.join(p) for p in product(alphabets,repeat=3)] #combinations_with_replacement\n",
    "print(perms2)"
   ]
  }
 ],
 "metadata": {
  "kernelspec": {
   "display_name": "Python 3",
   "language": "python",
   "name": "python3"
  },
  "language_info": {
   "codemirror_mode": {
    "name": "ipython",
    "version": 3
   },
   "file_extension": ".py",
   "mimetype": "text/x-python",
   "name": "python",
   "nbconvert_exporter": "python",
   "pygments_lexer": "ipython3",
   "version": "3.6.5"
  }
 },
 "nbformat": 4,
 "nbformat_minor": 2
}
