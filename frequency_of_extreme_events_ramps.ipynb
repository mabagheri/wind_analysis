{
 "cells": [
  {
   "cell_type": "code",
   "execution_count": 1,
   "metadata": {},
   "outputs": [],
   "source": [
    "from utils import *\n",
    "from matplotlib import rcParams\n",
    "rcParams['font.family'] = 'sans-serif'\n",
    "rcParams['font.sans-serif'] = ['Segoe UI Symbol','simHei','Arial','sans-serif']"
   ]
  },
  {
   "cell_type": "markdown",
   "metadata": {},
   "source": [
    "## Load Data"
   ]
  },
  {
   "cell_type": "code",
   "execution_count": 2,
   "metadata": {},
   "outputs": [
    {
     "name": "stdout",
     "output_type": "stream",
     "text": [
      "year:2016\t(105408, 20)\n",
      "year:2017\t(105120, 20)\n",
      "resampled to  (105264, 20)\n"
     ]
    }
   ],
   "source": [
    "years = [2016,2017]\n",
    "resampling_period = '10T'  # 60 minutes\n",
    "\n",
    "original_data = load_resample_data(years, resampling_period)\n",
    "\n",
    "# Load Windfarms.xlsx\n",
    "windfarms = pd.read_excel('NRGstreamData/WindFarms.xlsx').sort_values(by='Asset ID').reset_index(drop = True)\n",
    "windfarms_names = original_data.columns.tolist()    "
   ]
  },
  {
   "cell_type": "markdown",
   "metadata": {},
   "source": [
    "### Normalize data = Capacity Factor (optional) "
   ]
  },
  {
   "cell_type": "code",
   "execution_count": 3,
   "metadata": {},
   "outputs": [
    {
     "data": {
      "text/html": [
       "<div>\n",
       "<style scoped>\n",
       "    .dataframe tbody tr th:only-of-type {\n",
       "        vertical-align: middle;\n",
       "    }\n",
       "\n",
       "    .dataframe tbody tr th {\n",
       "        vertical-align: top;\n",
       "    }\n",
       "\n",
       "    .dataframe thead th {\n",
       "        text-align: right;\n",
       "    }\n",
       "</style>\n",
       "<table border=\"1\" class=\"dataframe\">\n",
       "  <thead>\n",
       "    <tr style=\"text-align: right;\">\n",
       "      <th></th>\n",
       "      <th>AKE1</th>\n",
       "      <th>ARD1</th>\n",
       "      <th>BSR1</th>\n",
       "      <th>BTR1</th>\n",
       "      <th>BUL1</th>\n",
       "      <th>BUL2</th>\n",
       "      <th>CR1</th>\n",
       "      <th>CRE3</th>\n",
       "      <th>CRR1</th>\n",
       "      <th>GWW1</th>\n",
       "      <th>HAL1</th>\n",
       "      <th>IEW1</th>\n",
       "      <th>IEW2</th>\n",
       "      <th>KHW1</th>\n",
       "      <th>NEP1</th>\n",
       "      <th>OWF1</th>\n",
       "      <th>SCR2</th>\n",
       "      <th>SCR3</th>\n",
       "      <th>SCR4</th>\n",
       "      <th>TAB1</th>\n",
       "    </tr>\n",
       "    <tr>\n",
       "      <th>DT</th>\n",
       "      <th></th>\n",
       "      <th></th>\n",
       "      <th></th>\n",
       "      <th></th>\n",
       "      <th></th>\n",
       "      <th></th>\n",
       "      <th></th>\n",
       "      <th></th>\n",
       "      <th></th>\n",
       "      <th></th>\n",
       "      <th></th>\n",
       "      <th></th>\n",
       "      <th></th>\n",
       "      <th></th>\n",
       "      <th></th>\n",
       "      <th></th>\n",
       "      <th></th>\n",
       "      <th></th>\n",
       "      <th></th>\n",
       "      <th></th>\n",
       "    </tr>\n",
       "  </thead>\n",
       "  <tbody>\n",
       "    <tr>\n",
       "      <th>2016-01-01 00:00:00</th>\n",
       "      <td>0.90</td>\n",
       "      <td>0.88</td>\n",
       "      <td>0.14</td>\n",
       "      <td>0.79</td>\n",
       "      <td>0.71</td>\n",
       "      <td>0.88</td>\n",
       "      <td>0.95</td>\n",
       "      <td>0.68</td>\n",
       "      <td>0.76</td>\n",
       "      <td>0.94</td>\n",
       "      <td>0.98</td>\n",
       "      <td>0.54</td>\n",
       "      <td>0.36</td>\n",
       "      <td>0.90</td>\n",
       "      <td>0.64</td>\n",
       "      <td>0.95</td>\n",
       "      <td>0.87</td>\n",
       "      <td>0.87</td>\n",
       "      <td>0.90</td>\n",
       "      <td>0.46</td>\n",
       "    </tr>\n",
       "    <tr>\n",
       "      <th>2016-01-01 00:10:00</th>\n",
       "      <td>0.88</td>\n",
       "      <td>0.82</td>\n",
       "      <td>0.14</td>\n",
       "      <td>0.74</td>\n",
       "      <td>0.71</td>\n",
       "      <td>0.88</td>\n",
       "      <td>0.95</td>\n",
       "      <td>0.67</td>\n",
       "      <td>0.71</td>\n",
       "      <td>0.92</td>\n",
       "      <td>0.98</td>\n",
       "      <td>0.54</td>\n",
       "      <td>0.39</td>\n",
       "      <td>0.92</td>\n",
       "      <td>0.64</td>\n",
       "      <td>0.95</td>\n",
       "      <td>0.87</td>\n",
       "      <td>0.87</td>\n",
       "      <td>0.91</td>\n",
       "      <td>0.46</td>\n",
       "    </tr>\n",
       "    <tr>\n",
       "      <th>2016-01-01 00:20:00</th>\n",
       "      <td>0.86</td>\n",
       "      <td>0.83</td>\n",
       "      <td>0.15</td>\n",
       "      <td>0.72</td>\n",
       "      <td>0.71</td>\n",
       "      <td>0.81</td>\n",
       "      <td>0.95</td>\n",
       "      <td>0.67</td>\n",
       "      <td>0.71</td>\n",
       "      <td>0.90</td>\n",
       "      <td>0.98</td>\n",
       "      <td>0.47</td>\n",
       "      <td>0.35</td>\n",
       "      <td>0.89</td>\n",
       "      <td>0.66</td>\n",
       "      <td>0.91</td>\n",
       "      <td>0.90</td>\n",
       "      <td>0.89</td>\n",
       "      <td>0.91</td>\n",
       "      <td>0.51</td>\n",
       "    </tr>\n",
       "  </tbody>\n",
       "</table>\n",
       "</div>"
      ],
      "text/plain": [
       "                     AKE1  ARD1  BSR1  BTR1  BUL1  BUL2  CR1  CRE3  CRR1  \\\n",
       "DT                                                                         \n",
       "2016-01-01 00:00:00  0.90  0.88  0.14  0.79  0.71  0.88 0.95  0.68  0.76   \n",
       "2016-01-01 00:10:00  0.88  0.82  0.14  0.74  0.71  0.88 0.95  0.67  0.71   \n",
       "2016-01-01 00:20:00  0.86  0.83  0.15  0.72  0.71  0.81 0.95  0.67  0.71   \n",
       "\n",
       "                     GWW1  HAL1  IEW1  IEW2  KHW1  NEP1  OWF1  SCR2  SCR3  \\\n",
       "DT                                                                          \n",
       "2016-01-01 00:00:00  0.94  0.98  0.54  0.36  0.90  0.64  0.95  0.87  0.87   \n",
       "2016-01-01 00:10:00  0.92  0.98  0.54  0.39  0.92  0.64  0.95  0.87  0.87   \n",
       "2016-01-01 00:20:00  0.90  0.98  0.47  0.35  0.89  0.66  0.91  0.90  0.89   \n",
       "\n",
       "                     SCR4  TAB1  \n",
       "DT                               \n",
       "2016-01-01 00:00:00  0.90  0.46  \n",
       "2016-01-01 00:10:00  0.91  0.46  \n",
       "2016-01-01 00:20:00  0.91  0.51  "
      ]
     },
     "execution_count": 3,
     "metadata": {},
     "output_type": "execute_result"
    }
   ],
   "source": [
    "normalized_data = original_data / windfarms['Capacity'].values\n",
    "\n",
    "normalized_data.head(3)"
   ]
  },
  {
   "cell_type": "markdown",
   "metadata": {},
   "source": [
    "### Clustering (optional)"
   ]
  },
  {
   "cell_type": "code",
   "execution_count": 4,
   "metadata": {},
   "outputs": [],
   "source": [
    "# from sklearn.cluster import KMeans\n",
    "n_clusters = 5\n",
    "# kmin = KMeans(n_clusters)\n",
    "# X = np.transpose(normalized_data.iloc[:,:])\n",
    "# Y = kmin.fit(X)\n",
    "# clusters = kmin.labels_\n",
    "# clusters\n",
    "\n",
    "clusters = np.array([1, 1, 2, 1, 4, 4, 0, 0, 0, 1, 3, 0, 0, 0, 3, 0, 1, 2, 3, 2])\n",
    "\n",
    "a = {}\n",
    "for c in range(n_clusters):\n",
    "    ind = clusters == c # OR: ind = np.where(clusters==c)[0] --> this generate an np.array of only indices\n",
    "    # a[c] = (normalized_data.iloc[:,ind]).mean(axis=1) : old version\n",
    "    a[c] = (original_data.iloc[:,ind]).sum(axis=1) / (windfarms['Capacity'].iloc[ind].sum())\n",
    "    \n",
    "\n",
    "clustered_data = pd.DataFrame.from_dict(a)\n",
    "clustered_data.columns = ['Cluster {:d}'.format(d) for d in range(1,n_clusters+1)] "
   ]
  },
  {
   "cell_type": "markdown",
   "metadata": {},
   "source": [
    "### Decide what data to use for further analysis (Original data | Normalized data | clustered_data)"
   ]
  },
  {
   "cell_type": "code",
   "execution_count": 5,
   "metadata": {},
   "outputs": [],
   "source": [
    "sum_capacities_each_row = np.array(~original_data.isnull().values * windfarms['Capacity'].values).sum(axis=1)\n",
    "normalized_data['Total'] = original_data.sum(axis=1)/ sum_capacities_each_row\n",
    "\n",
    "clustered_data['Total'] = normalized_data['Total']\n",
    "\n",
    "original_data['Total'] = original_data.sum(axis=1)"
   ]
  },
  {
   "cell_type": "code",
   "execution_count": 6,
   "metadata": {},
   "outputs": [
    {
     "data": {
      "text/html": [
       "<div>\n",
       "<style scoped>\n",
       "    .dataframe tbody tr th:only-of-type {\n",
       "        vertical-align: middle;\n",
       "    }\n",
       "\n",
       "    .dataframe tbody tr th {\n",
       "        vertical-align: top;\n",
       "    }\n",
       "\n",
       "    .dataframe thead th {\n",
       "        text-align: right;\n",
       "    }\n",
       "</style>\n",
       "<table border=\"1\" class=\"dataframe\">\n",
       "  <thead>\n",
       "    <tr style=\"text-align: right;\">\n",
       "      <th></th>\n",
       "      <th>AKE1</th>\n",
       "      <th>ARD1</th>\n",
       "      <th>BSR1</th>\n",
       "      <th>BTR1</th>\n",
       "      <th>BUL1</th>\n",
       "      <th>BUL2</th>\n",
       "      <th>CR1</th>\n",
       "      <th>CRE3</th>\n",
       "      <th>CRR1</th>\n",
       "      <th>GWW1</th>\n",
       "      <th>...</th>\n",
       "      <th>IEW1</th>\n",
       "      <th>IEW2</th>\n",
       "      <th>KHW1</th>\n",
       "      <th>NEP1</th>\n",
       "      <th>OWF1</th>\n",
       "      <th>SCR2</th>\n",
       "      <th>SCR3</th>\n",
       "      <th>SCR4</th>\n",
       "      <th>TAB1</th>\n",
       "      <th>Total</th>\n",
       "    </tr>\n",
       "    <tr>\n",
       "      <th>DT</th>\n",
       "      <th></th>\n",
       "      <th></th>\n",
       "      <th></th>\n",
       "      <th></th>\n",
       "      <th></th>\n",
       "      <th></th>\n",
       "      <th></th>\n",
       "      <th></th>\n",
       "      <th></th>\n",
       "      <th></th>\n",
       "      <th></th>\n",
       "      <th></th>\n",
       "      <th></th>\n",
       "      <th></th>\n",
       "      <th></th>\n",
       "      <th></th>\n",
       "      <th></th>\n",
       "      <th></th>\n",
       "      <th></th>\n",
       "      <th></th>\n",
       "      <th></th>\n",
       "    </tr>\n",
       "  </thead>\n",
       "  <tbody>\n",
       "    <tr>\n",
       "      <th>2016-01-01 00:00:00</th>\n",
       "      <td>66.00</td>\n",
       "      <td>59.50</td>\n",
       "      <td>43.50</td>\n",
       "      <td>52.00</td>\n",
       "      <td>10.00</td>\n",
       "      <td>14.00</td>\n",
       "      <td>37.00</td>\n",
       "      <td>20.50</td>\n",
       "      <td>58.50</td>\n",
       "      <td>67.00</td>\n",
       "      <td>...</td>\n",
       "      <td>36.00</td>\n",
       "      <td>23.50</td>\n",
       "      <td>56.50</td>\n",
       "      <td>52.50</td>\n",
       "      <td>43.50</td>\n",
       "      <td>27.00</td>\n",
       "      <td>27.00</td>\n",
       "      <td>79.50</td>\n",
       "      <td>38.00</td>\n",
       "      <td>958.00</td>\n",
       "    </tr>\n",
       "    <tr>\n",
       "      <th>2016-01-01 00:10:00</th>\n",
       "      <td>64.00</td>\n",
       "      <td>55.50</td>\n",
       "      <td>43.00</td>\n",
       "      <td>49.00</td>\n",
       "      <td>10.00</td>\n",
       "      <td>14.00</td>\n",
       "      <td>37.00</td>\n",
       "      <td>20.00</td>\n",
       "      <td>55.00</td>\n",
       "      <td>65.00</td>\n",
       "      <td>...</td>\n",
       "      <td>36.50</td>\n",
       "      <td>25.50</td>\n",
       "      <td>58.00</td>\n",
       "      <td>52.50</td>\n",
       "      <td>43.50</td>\n",
       "      <td>27.00</td>\n",
       "      <td>27.00</td>\n",
       "      <td>80.50</td>\n",
       "      <td>38.00</td>\n",
       "      <td>947.50</td>\n",
       "    </tr>\n",
       "    <tr>\n",
       "      <th>2016-01-01 00:20:00</th>\n",
       "      <td>63.00</td>\n",
       "      <td>56.50</td>\n",
       "      <td>46.00</td>\n",
       "      <td>47.50</td>\n",
       "      <td>10.00</td>\n",
       "      <td>13.00</td>\n",
       "      <td>37.00</td>\n",
       "      <td>20.00</td>\n",
       "      <td>54.50</td>\n",
       "      <td>64.00</td>\n",
       "      <td>...</td>\n",
       "      <td>31.50</td>\n",
       "      <td>23.00</td>\n",
       "      <td>56.00</td>\n",
       "      <td>54.00</td>\n",
       "      <td>42.00</td>\n",
       "      <td>28.00</td>\n",
       "      <td>27.50</td>\n",
       "      <td>80.00</td>\n",
       "      <td>42.00</td>\n",
       "      <td>942.00</td>\n",
       "    </tr>\n",
       "  </tbody>\n",
       "</table>\n",
       "<p>3 rows × 21 columns</p>\n",
       "</div>"
      ],
      "text/plain": [
       "                     AKE1  ARD1  BSR1  BTR1  BUL1  BUL2   CR1  CRE3  CRR1  \\\n",
       "DT                                                                          \n",
       "2016-01-01 00:00:00 66.00 59.50 43.50 52.00 10.00 14.00 37.00 20.50 58.50   \n",
       "2016-01-01 00:10:00 64.00 55.50 43.00 49.00 10.00 14.00 37.00 20.00 55.00   \n",
       "2016-01-01 00:20:00 63.00 56.50 46.00 47.50 10.00 13.00 37.00 20.00 54.50   \n",
       "\n",
       "                     GWW1  ...    IEW1  IEW2  KHW1  NEP1  OWF1  SCR2  SCR3  \\\n",
       "DT                         ...                                               \n",
       "2016-01-01 00:00:00 67.00  ...   36.00 23.50 56.50 52.50 43.50 27.00 27.00   \n",
       "2016-01-01 00:10:00 65.00  ...   36.50 25.50 58.00 52.50 43.50 27.00 27.00   \n",
       "2016-01-01 00:20:00 64.00  ...   31.50 23.00 56.00 54.00 42.00 28.00 27.50   \n",
       "\n",
       "                     SCR4  TAB1  Total  \n",
       "DT                                      \n",
       "2016-01-01 00:00:00 79.50 38.00 958.00  \n",
       "2016-01-01 00:10:00 80.50 38.00 947.50  \n",
       "2016-01-01 00:20:00 80.00 42.00 942.00  \n",
       "\n",
       "[3 rows x 21 columns]"
      ]
     },
     "execution_count": 6,
     "metadata": {},
     "output_type": "execute_result"
    }
   ],
   "source": [
    "# #### Be catious !\n",
    "data = original_data  # Normalized_data  | Original_data\n",
    "data.head(3)"
   ]
  },
  {
   "cell_type": "code",
   "execution_count": 7,
   "metadata": {},
   "outputs": [],
   "source": [
    "CF_total = data['Total'].values #* 100"
   ]
  },
  {
   "cell_type": "code",
   "execution_count": 8,
   "metadata": {},
   "outputs": [],
   "source": [
    "def comp_prob_matrix_rapid_change(array, time_windows = [2,3], delta_CFs = [5, 10], kind = 'ramp up'):\n",
    "    prob_mat = np.zeros((len(time_windows),len(delta_CFs)))\n",
    "    \n",
    "    for i,time_window in enumerate(time_windows):\n",
    "        print(i, end=\" \")\n",
    "        \n",
    "        # a = np.diff(array, time_window)\n",
    "        a = array[time_window:] - array[:-time_window]\n",
    "        \n",
    "        for j,delta_CF in enumerate(delta_CFs):\n",
    "            if kind == 'RampUp':\n",
    "                n_happened = sum(a > delta_CF) \n",
    "            elif kind == 'RampDown':\n",
    "                n_happened = sum(a < -delta_CF) \n",
    "                \n",
    "            p = n_happened / len(a)\n",
    "            \n",
    "            prob_mat[i,j] = p\n",
    "        \n",
    "    return prob_mat"
   ]
  },
  {
   "cell_type": "code",
   "execution_count": 9,
   "metadata": {},
   "outputs": [
    {
     "name": "stdout",
     "output_type": "stream",
     "text": [
      "0 1 2 3 4 5 6 7 8 9 10 11 12 13 14 15 16 17 18 19 20 21 22 23 24 25 26 27 28 29 30 31 32 33 34 35 36 37 38 39 40 41 42 43 44 45 46 47 48 49 50 51 52 53 54 55 56 57 58 59 60 61 62 63 64 65 66 "
     ]
    }
   ],
   "source": [
    "c = int(60 / int(resampling_period[:-1]))\n",
    "n_hours = 12\n",
    "kind = 'RampDown'\n",
    "t_windows = np.arange(c, n_hours *  c + 1)\n",
    "delta_CFs = np.arange(5,101,10)\n",
    "delta_CFs = np.arange(100,801,10)\n",
    "\n",
    "prob_matrix_ramp_down = comp_prob_matrix_rapid_change(CF_total,time_windows=t_windows, delta_CFs=delta_CFs,kind=kind)"
   ]
  },
  {
   "cell_type": "code",
   "execution_count": 11,
   "metadata": {},
   "outputs": [
    {
     "data": {
      "text/plain": [
       "(67, 71)"
      ]
     },
     "execution_count": 11,
     "metadata": {},
     "output_type": "execute_result"
    }
   ],
   "source": [
    "# delta_Capacity = (delta_CFs * 1500 / 100).astype('int')\n",
    "delta_Capacity = delta_CFs\n",
    "time_windows = t_windows / c\n",
    "prob_matrix_ramp_down.shape"
   ]
  },
  {
   "cell_type": "code",
   "execution_count": 13,
   "metadata": {},
   "outputs": [
    {
     "data": {
      "image/png": "[encoded data removed]",
      "text/plain": [
       "<Figure size 550x440 with 2 Axes>"
      ]
     },
     "metadata": {},
     "output_type": "display_data"
    }
   ],
   "source": [
    "data_here = prob_matrix_ramp_down\n",
    "d1 = data_here.shape[0]\n",
    "d2 = data_here.shape[1]\n",
    "x_leg = 1 * c\n",
    "y_leg = 5\n",
    "\n",
    "fig, ax = plt.subplots(figsize=(5,4),dpi=110)\n",
    "cax = ax.imshow(data_here.transpose(), aspect='auto', cmap='YlGnBu') #norm=matplotlib.colors.LogNorm()\n",
    "\n",
    "ax.set_xticks(np.arange(0, d1,x_leg))\n",
    "ax.set_xticklabels(time_windows[0::x_leg].astype('int'), fontsize=9)\n",
    "\n",
    "y_ticks_positions = np.arange(0, d2, y_leg)\n",
    "# y_ticks_positions[-1] = y_ticks_positions[-1] + 1\n",
    "ax.set_yticks(y_ticks_positions) #[-0.5,  4.5,  9.5, 14.5, 19.5, 24.5, 30.5]\n",
    "ax.set_yticklabels(delta_Capacity[0::y_leg],fontsize=9)  # delta_Capacity or delta_CFs\n",
    "\n",
    "# ax.spines['left'].set_position(('data', 0.0))\n",
    "\n",
    "# Add colorbar, make sure to specify tick locations to match desired ticklabels\n",
    "cbar = fig.colorbar(cax)\n",
    "# cbar.ax.set_yticklabels(['< -1', '0', '> 1'])  # vertically oriented colorbar\n",
    "\n",
    "ax.set_xlabel('Time window (hours)',fontsize=10)\n",
    "ax.set_ylabel('$\\Delta$P (MW)',fontsize=10)\n",
    "\n",
    "fig.tight_layout()\n",
    "fig.savefig('{}_in_{}hours_upto{}p.jpg'.format(kind,n_hours,max(delta_Capacity)), dpi = 300, bbox_inches='tight')    "
   ]
  },
  {
   "cell_type": "code",
   "execution_count": 14,
   "metadata": {},
   "outputs": [
    {
     "name": "stdout",
     "output_type": "stream",
     "text": [
      "0 1 2 3 4 5 6 7 8 9 10 11 12 13 14 15 16 17 18 19 20 21 22 23 24 25 26 27 28 29 30 31 32 33 34 35 36 37 38 39 40 41 42 43 44 45 46 47 48 49 50 51 52 53 54 55 56 57 58 59 60 61 62 63 64 65 66 "
     ]
    }
   ],
   "source": [
    "c = int(60 / int(resampling_period[:-1]))\n",
    "n_hours = 12\n",
    "kind = 'RampUp'\n",
    "t_windows = np.arange(c, n_hours *  c + 1)\n",
    "delta_CFs = np.arange(5,101,10)\n",
    "delta_CFs = np.arange(100,801,10)\n",
    "\n",
    "prob_matrix_ramp_up = comp_prob_matrix_rapid_change(CF_total,time_windows=t_windows, delta_CFs=delta_CFs,kind=kind)"
   ]
  },
  {
   "cell_type": "code",
   "execution_count": 15,
   "metadata": {},
   "outputs": [
    {
     "data": {
      "text/plain": [
       "(67, 71)"
      ]
     },
     "execution_count": 15,
     "metadata": {},
     "output_type": "execute_result"
    }
   ],
   "source": [
    "# delta_Capacity = (delta_CFs * 1500 / 100).astype('int')\n",
    "delta_Capacity = delta_CFs\n",
    "time_windows = t_windows / c\n",
    "prob_matrix_ramp_up.shape"
   ]
  },
  {
   "cell_type": "code",
   "execution_count": 16,
   "metadata": {},
   "outputs": [
    {
     "data": {
      "image/png": "[encoded data removed]",
      "text/plain": [
       "<Figure size 550x440 with 2 Axes>"
      ]
     },
     "metadata": {},
     "output_type": "display_data"
    }
   ],
   "source": [
    "data_here = prob_matrix_ramp_up\n",
    "d1 = data_here.shape[0]\n",
    "d2 = data_here.shape[1]\n",
    "x_leg = 1 * c\n",
    "y_leg = 5\n",
    "\n",
    "fig, ax = plt.subplots(figsize=(5,4),dpi=110)\n",
    "cax = ax.imshow(data_here.transpose(), aspect='auto', cmap='YlGnBu') #norm=matplotlib.colors.LogNorm()\n",
    "\n",
    "ax.set_xticks(np.arange(0, d1,x_leg))\n",
    "ax.set_xticklabels(time_windows[0::x_leg].astype('int'), fontsize=9)\n",
    "\n",
    "y_ticks_positions = np.arange(0, d2, y_leg)\n",
    "# y_ticks_positions[-1] = y_ticks_positions[-1] + 1\n",
    "ax.set_yticks(y_ticks_positions) #[-0.5,  4.5,  9.5, 14.5, 19.5, 24.5, 30.5]\n",
    "ax.set_yticklabels(delta_Capacity[0::y_leg],fontsize=9)  # delta_Capacity or delta_CFs\n",
    "\n",
    "# ax.spines['left'].set_position(('data', 0.0))\n",
    "\n",
    "# Add colorbar, make sure to specify tick locations to match desired ticklabels\n",
    "cbar = fig.colorbar(cax)\n",
    "# cbar.ax.set_yticklabels(['< -1', '0', '> 1'])  # vertically oriented colorbar\n",
    "\n",
    "ax.set_xlabel('Time window (hours)',fontsize=10)\n",
    "ax.set_ylabel('$\\Delta$P (MW)',fontsize=10)\n",
    "\n",
    "fig.tight_layout()\n",
    "fig.savefig('{}_in_{}hours_upto{}p.jpg'.format(kind,n_hours,max(delta_Capacity)), dpi = 300, bbox_inches='tight')    "
   ]
  }
 ],
 "metadata": {
  "kernelspec": {
   "display_name": "Python 3",
   "language": "python",
   "name": "python3"
  },
  "language_info": {
   "codemirror_mode": {
    "name": "ipython",
    "version": 3
   },
   "file_extension": ".py",
   "mimetype": "text/x-python",
   "name": "python",
   "nbconvert_exporter": "python",
   "pygments_lexer": "ipython3",
   "version": "3.6.5"
  }
 },
 "nbformat": 4,
 "nbformat_minor": 2
}
